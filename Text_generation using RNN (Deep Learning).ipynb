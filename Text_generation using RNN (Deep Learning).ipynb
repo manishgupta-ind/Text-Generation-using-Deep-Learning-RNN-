{
 "cells": [
  {
   "cell_type": "markdown",
   "metadata": {
    "_cell_guid": "e084e610-8128-4769-ab64-6aa194044892",
    "_uuid": "20c011dd401be7b6448c43f965e5d0bf548c53b9",
    "id": "CbB4DzTUR1lU"
   },
   "source": [
    "## Generating text for news headlines:\n",
    "Language Modelling is the core problem for a number of of natural language processing tasks such as speech to text, conversational system, and text summarization. A trained language model learns the likelihood of occurrence of a word/ character based on the previous sequence of words/ characters used in the text. Language models can be operated at character level, n-gram level, sentence level or even paragraph level. We will create a language model for predicting next word by implementing and training state-of-the-art Recurrent Neural Networks under Deep Learning. \n",
    "\n",
    "We will use **Keras** library in python to implement our project."
   ]
  },
  {
   "cell_type": "markdown",
   "metadata": {},
   "source": [
    "### 1. Import the libraries"
   ]
  },
  {
   "cell_type": "code",
   "execution_count": 1,
   "metadata": {
    "_cell_guid": "b1076dfc-b9ad-4769-8c92-a6c4dae69d19",
    "_uuid": "8f2839f25d086af736a60e9eeb907d3b93b6e0e5",
    "id": "u8Sa63mNR1lV"
   },
   "outputs": [],
   "source": [
    "# Let us import required libraries first\n",
    "from tensorflow.keras.preprocessing.sequence import pad_sequences\n",
    "from tensorflow.keras.layers import Embedding, SimpleRNN, Dense, Dropout\n",
    "from tensorflow.keras.preprocessing.text import Tokenizer\n",
    "from tensorflow.keras.callbacks import EarlyStopping\n",
    "from tensorflow.keras.models import Sequential\n",
    "import tensorflow.keras.utils as ku \n",
    "import tensorflow\n",
    "\n",
    "# set seeds for reproducability\n",
    "tensorflow.random.set_seed(200)\n",
    "\n",
    "import pandas as pd\n",
    "import numpy as np\n",
    "import string\n",
    "\n",
    "import warnings\n",
    "warnings.filterwarnings(\"ignore\")"
   ]
  },
  {
   "cell_type": "markdown",
   "metadata": {
    "_cell_guid": "79c7e3d0-c299-4dcb-8224-4455121ee9b0",
    "_uuid": "d629ff2d2480ee46fbb7e2d37f6b5fab8052498a",
    "id": "WjPOpsj_R1lc"
   },
   "source": [
    "### 2. Load the dataset\n",
    "\n",
    "Load the dataset of news headlines"
   ]
  },
  {
   "cell_type": "code",
   "execution_count": 2,
   "metadata": {
    "colab": {
     "base_uri": "https://localhost:8080/"
    },
    "id": "xcWRtbKTSNlQ",
    "outputId": "f190a568-05aa-4357-808f-ecb32e4fae78"
   },
   "outputs": [
    {
     "data": {
      "text/plain": [
       "1250"
      ]
     },
     "execution_count": 2,
     "metadata": {},
     "output_type": "execute_result"
    }
   ],
   "source": [
    "all_headlines = []\n",
    "article_df = pd.read_csv('ArticlesMarch2018.csv')\n",
    "all_headlines.extend(list(article_df.headline.values))\n",
    "all_headlines = [h for h in all_headlines if h != \"Unknown\"]\n",
    "len(all_headlines)"
   ]
  },
  {
   "cell_type": "code",
   "execution_count": 3,
   "metadata": {
    "colab": {
     "base_uri": "https://localhost:8080/"
    },
    "id": "q0OH8h-FLFfS",
    "outputId": "37502c1e-d92b-4fe9-f67f-66aed2691dd4"
   },
   "outputs": [
    {
     "data": {
      "text/plain": [
       "['Virtual Coins, Real Resources',\n",
       " 'U.S. Advances Military Plans for North Korea',\n",
       " 'Mr. Trump and the ‘Very Bad Judge’',\n",
       " 'To Erase Dissent, China Bans Pooh Bear and ‘N’',\n",
       " 'Loans Flowed to Kushner Cos. After Visits to the White House',\n",
       " 'China Envoy Intends To Ease Trade Tensions',\n",
       " 'President Trump’s Contradictory, and Sometimes False, Comments About Gun Policy to Lawmakers',\n",
       " 'Classic Letter Puzzle',\n",
       " 'Silicon Valley Disruption In an Australian School',\n",
       " '‘The Assassination of Gianni Versace’ Episode 6: A Nothing Man']"
      ]
     },
     "execution_count": 3,
     "metadata": {},
     "output_type": "execute_result"
    }
   ],
   "source": [
    "all_headlines[:10]"
   ]
  },
  {
   "cell_type": "markdown",
   "metadata": {
    "_cell_guid": "9dbd8bc9-fb61-43b9-b0c4-98bd7f3f8150",
    "_uuid": "fda5d4868631d3618d4d9a9a863541b2faf121c0",
    "id": "HkF21nnDR1lg"
   },
   "source": [
    "### 3. Dataset preparation\n",
    "\n",
    "#### 3.1 Dataset cleaning \n",
    "\n",
    "In dataset preparation step, we will first perform text cleaning of the data which includes removal of punctuations and lower casing all the words. "
   ]
  },
  {
   "cell_type": "code",
   "execution_count": 4,
   "metadata": {
    "_cell_guid": "b8bf84ed-da11-4f89-a584-9dceea677420",
    "_uuid": "2a07365a27a7ba2f92fc9ba4d05d8e6254a68d8c",
    "colab": {
     "base_uri": "https://localhost:8080/"
    },
    "id": "agBhQcIvR1lh",
    "outputId": "1715ba7b-872f-4a1a-8bbe-137b185c74be"
   },
   "outputs": [
    {
     "data": {
      "text/plain": [
       "['virtual coins real resources',\n",
       " 'us advances military plans for north korea',\n",
       " 'mr trump and the very bad judge',\n",
       " 'to erase dissent china bans pooh bear and n',\n",
       " 'loans flowed to kushner cos after visits to the white house',\n",
       " 'china envoy intends to ease trade tensions',\n",
       " 'president trumps contradictory and sometimes false comments about gun policy to lawmakers',\n",
       " 'classic letter puzzle',\n",
       " 'silicon valley disruption in an australian school',\n",
       " 'the assassination of gianni versace episode 6 a nothing man']"
      ]
     },
     "execution_count": 4,
     "metadata": {},
     "output_type": "execute_result"
    }
   ],
   "source": [
    "def clean_text(txt):\n",
    "    txt = \"\".join(v for v in txt if v not in string.punctuation).lower()\n",
    "    txt = txt.encode(\"utf8\").decode(\"ascii\",'ignore')\n",
    "    return txt \n",
    "\n",
    "corpus = [clean_text(x) for x in all_headlines]\n",
    "corpus[:10]"
   ]
  },
  {
   "cell_type": "markdown",
   "metadata": {
    "_cell_guid": "9d83cc08-19ba-4b00-9ca6-dcf5ff39c8af",
    "_uuid": "6fd11859fd71aa5c7ce10bdbbd31c8eb6d1b3118",
    "id": "tImxs8ZNR1ll"
   },
   "source": [
    "#### 3.2 Generating Sequence of N-gram Tokens\n",
    "The next step is Tokenization. Tokenization is a process of extracting tokens (terms / words) from a corpus. Python’s library Keras has inbuilt model for tokenization which can be used to obtain the tokens and their index in the corpus. After this step, every text document in the dataset is converted into sequence of tokens. \n"
   ]
  },
  {
   "cell_type": "code",
   "execution_count": 5,
   "metadata": {
    "colab": {
     "base_uri": "https://localhost:8080/"
    },
    "id": "gSjZEaiRMbgg",
    "outputId": "4de86568-8da8-4450-e4b7-93a5ba8f6aad"
   },
   "outputs": [
    {
     "name": "stdout",
     "output_type": "stream",
     "text": [
      "[33, 469, 1062, 3, 191, 16, 84, 767]\n"
     ]
    },
    {
     "data": {
      "text/plain": [
       "[[33, 469],\n",
       " [33, 469, 1062],\n",
       " [33, 469, 1062, 3],\n",
       " [33, 469, 1062, 3, 191],\n",
       " [33, 469, 1062, 3, 191, 16],\n",
       " [33, 469, 1062, 3, 191, 16, 84],\n",
       " [33, 469, 1062, 3, 191, 16, 84, 767]]"
      ]
     },
     "execution_count": 5,
     "metadata": {},
     "output_type": "execute_result"
    }
   ],
   "source": [
    "tokenizer = Tokenizer()\n",
    "tokenizer.fit_on_texts(corpus)\n",
    "token_list = tokenizer.texts_to_sequences([\"I am happy to see you here today\"])[0]\n",
    "print(token_list)\n",
    "\n",
    "check=[]\n",
    "\n",
    "for i in range(1, len(token_list)):\n",
    "  n_gram_sequence = token_list[:i+1]\n",
    "  check.append(n_gram_sequence)\n",
    "\n",
    "check"
   ]
  },
  {
   "cell_type": "code",
   "execution_count": 6,
   "metadata": {
    "_cell_guid": "896543c9-7944-4748-b8ef-ef8cbc2a84f0",
    "_uuid": "9129a8b773feb72eff91aa0025157a173d10c625",
    "colab": {
     "base_uri": "https://localhost:8080/"
    },
    "id": "YhjzI4eWR1ll",
    "outputId": "027d17e4-cc0b-4591-88e5-6d74cac06358"
   },
   "outputs": [
    {
     "data": {
      "text/plain": [
       "([[1119, 1120],\n",
       "  [1119, 1120, 116],\n",
       "  [1119, 1120, 116, 1121],\n",
       "  [31, 1122],\n",
       "  [31, 1122, 589],\n",
       "  [31, 1122, 589, 392],\n",
       "  [31, 1122, 589, 392, 7],\n",
       "  [31, 1122, 589, 392, 7, 61],\n",
       "  [31, 1122, 589, 392, 7, 61, 70],\n",
       "  [117, 10]],\n",
       " 3582)"
      ]
     },
     "execution_count": 6,
     "metadata": {},
     "output_type": "execute_result"
    }
   ],
   "source": [
    "tokenizer = Tokenizer()\n",
    "\n",
    "def get_sequence_of_tokens(corpus):\n",
    "    ## tokenization\n",
    "    tokenizer.fit_on_texts(corpus)\n",
    "    total_words = len(tokenizer.word_index) + 1    \n",
    "    \n",
    "    ## convert data to sequence of tokens \n",
    "    input_sequences = []\n",
    "    for line in corpus:\n",
    "        token_list = tokenizer.texts_to_sequences([line])[0]\n",
    "        for i in range(1, len(token_list)):\n",
    "            n_gram_sequence = token_list[:i+1]\n",
    "            input_sequences.append(n_gram_sequence)\n",
    "    return input_sequences, total_words\n",
    "\n",
    "inp_sequences, total_words = get_sequence_of_tokens(corpus)\n",
    "\n",
    "inp_sequences[:10], total_words"
   ]
  },
  {
   "cell_type": "markdown",
   "metadata": {
    "_cell_guid": "a22c88f5-f2a3-457c-835b-63341e657e3f",
    "_uuid": "f22aa5e0c04620ca5034ab9389322eee543060c6",
    "id": "rY7xLNsXR1lo"
   },
   "source": [
    "In the above output [1119, 1120], [1119, 1120,116], [1119, 1120, 116, 1121] and so on represents the ngram phrases generated from the input data. where every integer corresponds to the index of a particular word in the complete vocabulary of words present in the text. For example\n",
    "\n",
    "**Headline:** i stand  with the shedevils  \n",
    "**Ngrams:** | **Sequence of Tokens**\n",
    "\n",
    "<table>\n",
    "<tr><td>Ngram </td><td> Sequence of Tokens</td></tr>\n",
    "<tr> <td>i stand </td><td> [30, 507] </td></tr>\n",
    "<tr> <td>i stand with </td><td> [30, 507, 11] </td></tr>\n",
    "<tr> <td>i stand with the </td><td> [30, 507, 11, 1] </td></tr>\n",
    "<tr> <td>i stand with the shedevils </td><td> [30, 507, 11, 1, 975] </td></tr>\n",
    "</table>\n",
    "\n",
    "\n",
    "\n",
    "#### 3.3 Padding the Sequences and obtain Variables : Predictors and Target\n",
    "Now we have generated a data-set which contains sequence of tokens. Before starting training the model, we need to pad the sequences and make their lengths equal. We can use pad_sequence function of Kears for this purpose. To input this data into a learning model, we need to create predictors and label. For example:\n",
    "\n",
    "\n",
    "Headline:  they are learning data science\n",
    "\n",
    "<table>\n",
    "<tr><td>PREDICTORS </td> <td>           LABEL </td></tr>\n",
    "<tr><td>they                   </td> <td>  are</td></tr>\n",
    "<tr><td>they are               </td> <td>  learning</td></tr>\n",
    "<tr><td>they are learning      </td> <td>  data</td></tr>\n",
    "<tr><td>they are learning data </td> <td>  science</td></tr>\n",
    "</table>"
   ]
  },
  {
   "cell_type": "code",
   "execution_count": 7,
   "metadata": {
    "_cell_guid": "73254551-40bd-45b1-a7a5-88fe4cbe0b20",
    "_uuid": "ca588b414e70e21bebcead960f6632805d37dd8c",
    "colab": {
     "base_uri": "https://localhost:8080/"
    },
    "id": "dFQ8LfydR1lp",
    "outputId": "7beb8d5b-dfca-45ab-88a2-e2a1ee9623bc"
   },
   "outputs": [
    {
     "data": {
      "text/plain": [
       "(array([[   0,    0,    0, ...,    0,    0, 1119],\n",
       "        [   0,    0,    0, ...,    0, 1119, 1120],\n",
       "        [   0,    0,    0, ..., 1119, 1120,  116],\n",
       "        ...,\n",
       "        [   0,    0,    0, ...,  979,  151,  386],\n",
       "        [   0,    0,    0, ...,    0,    0, 3581],\n",
       "        [   0,    0,    0, ...,    0, 3581,    5]]),\n",
       " array([[0., 0., 0., ..., 0., 0., 0.],\n",
       "        [0., 0., 0., ..., 0., 0., 0.],\n",
       "        [0., 0., 0., ..., 0., 0., 0.],\n",
       "        ...,\n",
       "        [0., 0., 0., ..., 0., 0., 0.],\n",
       "        [0., 0., 0., ..., 0., 0., 0.],\n",
       "        [0., 0., 0., ..., 0., 0., 0.]], dtype=float32),\n",
       " 3582,\n",
       " 18)"
      ]
     },
     "execution_count": 7,
     "metadata": {},
     "output_type": "execute_result"
    }
   ],
   "source": [
    "def generate_padded_sequences(input_sequences):\n",
    "    max_sequence_len = max([len(x) for x in input_sequences])\n",
    "    input_sequences = np.array(pad_sequences(input_sequences, maxlen=max_sequence_len, padding='pre'))\n",
    "    \n",
    "    predictors, label = input_sequences[:,:-1],input_sequences[:,-1]\n",
    "    label = ku.to_categorical(label, num_classes=total_words)\n",
    "    return predictors, label, max_sequence_len\n",
    "\n",
    "predictors, label, max_sequence_len = generate_padded_sequences(inp_sequences)\n",
    "predictors,label,len(label[0]),max_sequence_len"
   ]
  },
  {
   "cell_type": "markdown",
   "metadata": {
    "_cell_guid": "8b5d80ff-54a8-4380-8a3c-149be880551d",
    "_uuid": "8b8a64b96011f427c48d5b0819e3e74af604ce43",
    "id": "IwidhfayR1lt"
   },
   "source": [
    "Perfect, now we can obtain the input vector X (predictors) and the label vector Y (label) which can be used for the training purposes. Now we will create RNN model for out data.\n",
    "\n",
    "### 4. RNN for Text Generation\n",
    "Unlike Feed-forward neural networks in which activation outputs are propagated only in one direction, the activation outputs from neurons propagate in both directions (from inputs to outputs and from outputs to inputs) in Recurrent Neural Networks. This creates loops in the neural network architecture which acts as a ‘memory state’ of the neurons. This state allows the neurons an ability to remember what have been learned so far.\n",
    "\n",
    "The memory state in RNNs gives an advantage over traditional neural networks. Lets architecture a RNN model in our code. We have added total three layers in the model.\n",
    "\n",
    "1. Input Layer : Takes the sequence of words as input\n",
    "2. RNN Layer : Computes the output using RNN units. We have added 200 units in the layer.\n",
    "3. Dropout Layer : A regularisation layer which randomly turns-off the activations of some neurons in the RNN layer. It helps in preventing over fitting. \n",
    "4. Output Layer : Computes the probability of the best possible next word as output\n",
    "\n",
    "We will run this model for total 100 epoochs but it can be experimented further."
   ]
  },
  {
   "cell_type": "code",
   "execution_count": 8,
   "metadata": {
    "_cell_guid": "60d6721e-e40e-4f2b-8f63-c06459d68f26",
    "_uuid": "76ef6d9352002d333a7c75e8aed7ce996015f527",
    "colab": {
     "base_uri": "https://localhost:8080/"
    },
    "id": "KkIKnEy1R1lu",
    "outputId": "b3f9fd2d-0ace-4f69-e414-b6c10ddb79ed"
   },
   "outputs": [
    {
     "name": "stdout",
     "output_type": "stream",
     "text": [
      "Model: \"sequential\"\n",
      "_________________________________________________________________\n",
      "Layer (type)                 Output Shape              Param #   \n",
      "=================================================================\n",
      "embedding (Embedding)        (None, 17, 32)            114624    \n",
      "_________________________________________________________________\n",
      "simple_rnn (SimpleRNN)       (None, 200)               46600     \n",
      "_________________________________________________________________\n",
      "dropout (Dropout)            (None, 200)               0         \n",
      "_________________________________________________________________\n",
      "dense (Dense)                (None, 3582)              719982    \n",
      "=================================================================\n",
      "Total params: 881,206\n",
      "Trainable params: 881,206\n",
      "Non-trainable params: 0\n",
      "_________________________________________________________________\n"
     ]
    }
   ],
   "source": [
    "def create_model(max_sequence_len, total_words):\n",
    "    input_len = max_sequence_len - 1\n",
    "    model = Sequential()\n",
    "    \n",
    "    # Setting early_stopping feature to stop early on getting stagnant\n",
    "    early_stopping = EarlyStopping(\n",
    "    min_delta=0.01, # minimium amount of change to count as an improvement\n",
    "    patience=5, # how many epochs to wait before stopping\n",
    "    restore_best_weights=True,\n",
    "    )\n",
    "    \n",
    "    # Add Input Embedding Layer\n",
    "    model.add(Embedding(total_words, 32, input_length=input_len))\n",
    "   \n",
    "    # input_dim: Integer. Size of the vocabulary, i.e. maximum integer index + 1.\n",
    "    # output_dim: Integer. Dimension of the dense embedding.\n",
    "    # input_length: Length of input sequences, when it is constant. \n",
    "\n",
    "    # Add Hidden Layer 1 - RNN Layer\n",
    "    model.add(SimpleRNN(200))\n",
    "    \n",
    "    # Add Hidden Layer 2 - Dropout Layer\n",
    "    model.add(Dropout(0.1))\n",
    "    \n",
    "    # Add Output Layer\n",
    "    model.add(Dense(total_words, activation='softmax'))\n",
    "\n",
    "    model.compile(loss='categorical_crossentropy', optimizer='adam')\n",
    "    \n",
    "    return model\n",
    "\n",
    "model = create_model(max_sequence_len, total_words)\n",
    "model.summary()"
   ]
  },
  {
   "cell_type": "markdown",
   "metadata": {
    "_cell_guid": "1826aa1a-cb77-4379-a69d-e9b180945dce",
    "_uuid": "f0b16b471969dbb831cb0024e303341e11b63de4",
    "id": "UdBpZSRzR1lz"
   },
   "source": [
    "Lets train our model now"
   ]
  },
  {
   "cell_type": "code",
   "execution_count": 9,
   "metadata": {
    "_cell_guid": "07d5cf03-d171-4993-9f8b-18446649ecb0",
    "_uuid": "156f3303b8120cc6932e6db985cbea4a7ceb08bf",
    "colab": {
     "base_uri": "https://localhost:8080/"
    },
    "id": "PzAPw05OR1lz",
    "outputId": "d369686b-d421-40ef-86aa-8be5cefd4f3d"
   },
   "outputs": [
    {
     "name": "stdout",
     "output_type": "stream",
     "text": [
      "Train on 8057 samples\n",
      "Epoch 1/200\n",
      "8057/8057 [==============================] - 10s 1ms/sample - loss: 7.6523\n",
      "Epoch 2/200\n",
      "8057/8057 [==============================] - 9s 1ms/sample - loss: 7.0929\n",
      "Epoch 3/200\n",
      "8057/8057 [==============================] - 9s 1ms/sample - loss: 6.7999\n",
      "Epoch 4/200\n",
      "8057/8057 [==============================] - 9s 1ms/sample - loss: 6.4093\n",
      "Epoch 5/200\n",
      "8057/8057 [==============================] - 10s 1ms/sample - loss: 5.9856\n",
      "Epoch 6/200\n",
      "8057/8057 [==============================] - 9s 1ms/sample - loss: 5.5373\n",
      "Epoch 7/200\n",
      "8057/8057 [==============================] - 11s 1ms/sample - loss: 5.0833\n",
      "Epoch 8/200\n",
      "8057/8057 [==============================] - 12s 1ms/sample - loss: 4.6307\n",
      "Epoch 9/200\n",
      "8057/8057 [==============================] - 10s 1ms/sample - loss: 4.1927\n",
      "Epoch 10/200\n",
      "8057/8057 [==============================] - 9s 1ms/sample - loss: 3.7565\n",
      "Epoch 11/200\n",
      "8057/8057 [==============================] - 9s 1ms/sample - loss: 3.3603\n",
      "Epoch 12/200\n",
      "8057/8057 [==============================] - 11s 1ms/sample - loss: 2.9970\n",
      "Epoch 13/200\n",
      "8057/8057 [==============================] - 11s 1ms/sample - loss: 2.6736\n",
      "Epoch 14/200\n",
      "8057/8057 [==============================] - 9s 1ms/sample - loss: 2.3935\n",
      "Epoch 15/200\n",
      "8057/8057 [==============================] - 9s 1ms/sample - loss: 2.1464\n",
      "Epoch 16/200\n",
      "8057/8057 [==============================] - 10s 1ms/sample - loss: 1.9225\n",
      "Epoch 17/200\n",
      "8057/8057 [==============================] - 10s 1ms/sample - loss: 1.7326\n",
      "Epoch 18/200\n",
      "8057/8057 [==============================] - 10s 1ms/sample - loss: 1.5513\n",
      "Epoch 19/200\n",
      "8057/8057 [==============================] - 12s 1ms/sample - loss: 1.4041\n",
      "Epoch 20/200\n",
      "8057/8057 [==============================] - 10s 1ms/sample - loss: 1.2647\n",
      "Epoch 21/200\n",
      "8057/8057 [==============================] - 10s 1ms/sample - loss: 1.1418\n",
      "Epoch 22/200\n",
      "8057/8057 [==============================] - 10s 1ms/sample - loss: 1.0267\n",
      "Epoch 23/200\n",
      "8057/8057 [==============================] - 10s 1ms/sample - loss: 0.9344\n",
      "Epoch 24/200\n",
      "8057/8057 [==============================] - 10s 1ms/sample - loss: 0.8491\n",
      "Epoch 25/200\n",
      "8057/8057 [==============================] - 12s 1ms/sample - loss: 0.7867\n",
      "Epoch 26/200\n",
      "8057/8057 [==============================] - 10s 1ms/sample - loss: 0.7182\n",
      "Epoch 27/200\n",
      "8057/8057 [==============================] - 10s 1ms/sample - loss: 0.6534\n",
      "Epoch 28/200\n",
      "8057/8057 [==============================] - 11s 1ms/sample - loss: 0.6120\n",
      "Epoch 29/200\n",
      "8057/8057 [==============================] - 12s 1ms/sample - loss: 0.5711\n",
      "Epoch 30/200\n",
      "8057/8057 [==============================] - 13s 2ms/sample - loss: 0.5362\n",
      "Epoch 31/200\n",
      "8057/8057 [==============================] - 10s 1ms/sample - loss: 0.5086\n",
      "Epoch 32/200\n",
      "8057/8057 [==============================] - 10s 1ms/sample - loss: 0.4813\n",
      "Epoch 33/200\n",
      "8057/8057 [==============================] - 11s 1ms/sample - loss: 0.4669\n",
      "Epoch 34/200\n",
      "8057/8057 [==============================] - 11s 1ms/sample - loss: 0.4489\n",
      "Epoch 35/200\n",
      "8057/8057 [==============================] - 9s 1ms/sample - loss: 0.4330\n",
      "Epoch 36/200\n",
      "8057/8057 [==============================] - 9s 1ms/sample - loss: 0.4259\n",
      "Epoch 37/200\n",
      "8057/8057 [==============================] - 9s 1ms/sample - loss: 0.4080\n",
      "Epoch 38/200\n",
      "8057/8057 [==============================] - 11s 1ms/sample - loss: 0.4030\n",
      "Epoch 39/200\n",
      "8057/8057 [==============================] - 12s 2ms/sample - loss: 0.3914\n",
      "Epoch 40/200\n",
      "8057/8057 [==============================] - 12s 2ms/sample - loss: 0.3863\n",
      "Epoch 41/200\n",
      "8057/8057 [==============================] - 11s 1ms/sample - loss: 0.3913\n",
      "Epoch 42/200\n",
      "8057/8057 [==============================] - 12s 1ms/sample - loss: 0.3855\n",
      "Epoch 43/200\n",
      "8057/8057 [==============================] - 10s 1ms/sample - loss: 0.3736\n",
      "Epoch 44/200\n",
      "8057/8057 [==============================] - 11s 1ms/sample - loss: 0.3771\n",
      "Epoch 45/200\n",
      "8057/8057 [==============================] - 10s 1ms/sample - loss: 0.36830s \n",
      "Epoch 46/200\n",
      "8057/8057 [==============================] - 10s 1ms/sample - loss: 0.3637\n",
      "Epoch 47/200\n",
      "8057/8057 [==============================] - 10s 1ms/sample - loss: 0.3626\n",
      "Epoch 48/200\n",
      "8057/8057 [==============================] - 10s 1ms/sample - loss: 0.3624\n",
      "Epoch 49/200\n",
      "8057/8057 [==============================] - 11s 1ms/sample - loss: 0.3599\n",
      "Epoch 50/200\n",
      "8057/8057 [==============================] - 11s 1ms/sample - loss: 0.3685\n",
      "Epoch 51/200\n",
      "8057/8057 [==============================] - 9s 1ms/sample - loss: 0.3707\n",
      "Epoch 52/200\n",
      "8057/8057 [==============================] - 9s 1ms/sample - loss: 0.3610\n",
      "Epoch 53/200\n",
      "8057/8057 [==============================] - 8s 1ms/sample - loss: 0.3570\n",
      "Epoch 54/200\n",
      "8057/8057 [==============================] - 9s 1ms/sample - loss: 0.3592\n",
      "Epoch 55/200\n",
      "8057/8057 [==============================] - 10s 1ms/sample - loss: 0.3648\n",
      "Epoch 56/200\n",
      "8057/8057 [==============================] - 9s 1ms/sample - loss: 0.3573\n",
      "Epoch 57/200\n",
      "8057/8057 [==============================] - 9s 1ms/sample - loss: 0.3642\n",
      "Epoch 58/200\n",
      "8057/8057 [==============================] - 9s 1ms/sample - loss: 0.3656\n",
      "Epoch 59/200\n",
      "8057/8057 [==============================] - 9s 1ms/sample - loss: 0.3556\n",
      "Epoch 60/200\n",
      "8057/8057 [==============================] - 9s 1ms/sample - loss: 0.3506\n",
      "Epoch 61/200\n",
      "8057/8057 [==============================] - 9s 1ms/sample - loss: 0.3447\n",
      "Epoch 62/200\n",
      "8057/8057 [==============================] - 10s 1ms/sample - loss: 0.3528\n",
      "Epoch 63/200\n",
      "8057/8057 [==============================] - 10s 1ms/sample - loss: 0.3470\n",
      "Epoch 64/200\n",
      "8057/8057 [==============================] - 12s 1ms/sample - loss: 0.3422\n",
      "Epoch 65/200\n",
      "8057/8057 [==============================] - 10s 1ms/sample - loss: 0.3455\n",
      "Epoch 66/200\n",
      "8057/8057 [==============================] - 10s 1ms/sample - loss: 0.3476\n",
      "Epoch 67/200\n",
      "8057/8057 [==============================] - 11s 1ms/sample - loss: 0.3401\n",
      "Epoch 68/200\n",
      "8057/8057 [==============================] - 11s 1ms/sample - loss: 0.3512\n",
      "Epoch 69/200\n",
      "8057/8057 [==============================] - 11s 1ms/sample - loss: 0.3517\n",
      "Epoch 70/200\n",
      "8057/8057 [==============================] - 12s 2ms/sample - loss: 0.3462\n",
      "Epoch 71/200\n",
      "8057/8057 [==============================] - 12s 1ms/sample - loss: 0.3480\n",
      "Epoch 72/200\n",
      "8057/8057 [==============================] - 12s 1ms/sample - loss: 0.3475\n",
      "Epoch 73/200\n",
      "8057/8057 [==============================] - 12s 1ms/sample - loss: 0.34680s - loss: 0.34\n",
      "Epoch 74/200\n",
      "8057/8057 [==============================] - 17s 2ms/sample - loss: 0.3545\n",
      "Epoch 75/200\n",
      "8057/8057 [==============================] - 11s 1ms/sample - loss: 0.3478\n",
      "Epoch 76/200\n",
      "8057/8057 [==============================] - 12s 2ms/sample - loss: 0.3479\n",
      "Epoch 77/200\n",
      "8057/8057 [==============================] - 11s 1ms/sample - loss: 0.3492\n",
      "Epoch 78/200\n",
      "8057/8057 [==============================] - 11s 1ms/sample - loss: 0.35180s - loss\n",
      "Epoch 79/200\n",
      "8057/8057 [==============================] - 11s 1ms/sample - loss: 0.3494\n",
      "Epoch 80/200\n",
      "8057/8057 [==============================] - 9s 1ms/sample - loss: 0.3434\n",
      "Epoch 81/200\n",
      "8057/8057 [==============================] - 9s 1ms/sample - loss: 0.3429\n",
      "Epoch 82/200\n",
      "8057/8057 [==============================] - 10s 1ms/sample - loss: 0.3441\n",
      "Epoch 83/200\n",
      "8057/8057 [==============================] - 11s 1ms/sample - loss: 0.3469\n",
      "Epoch 84/200\n",
      "8057/8057 [==============================] - 9s 1ms/sample - loss: 0.3491\n",
      "Epoch 85/200\n",
      "8057/8057 [==============================] - 9s 1ms/sample - loss: 0.3524\n",
      "Epoch 86/200\n",
      "8057/8057 [==============================] - 9s 1ms/sample - loss: 0.3462\n",
      "Epoch 87/200\n",
      "8057/8057 [==============================] - 9s 1ms/sample - loss: 0.3415\n",
      "Epoch 88/200\n",
      "8057/8057 [==============================] - 9s 1ms/sample - loss: 0.3501\n",
      "Epoch 89/200\n",
      "8057/8057 [==============================] - 10s 1ms/sample - loss: 0.3471\n",
      "Epoch 90/200\n",
      "8057/8057 [==============================] - 10s 1ms/sample - loss: 0.3495\n",
      "Epoch 91/200\n",
      "8057/8057 [==============================] - 9s 1ms/sample - loss: 0.3468\n",
      "Epoch 92/200\n",
      "8057/8057 [==============================] - 8s 985us/sample - loss: 0.3477\n",
      "Epoch 93/200\n",
      "8057/8057 [==============================] - 8s 997us/sample - loss: 0.3487\n",
      "Epoch 94/200\n",
      "8057/8057 [==============================] - 9s 1ms/sample - loss: 0.3412\n",
      "Epoch 95/200\n",
      "8057/8057 [==============================] - 9s 1ms/sample - loss: 0.3461\n",
      "Epoch 96/200\n",
      "8057/8057 [==============================] - 9s 1ms/sample - loss: 0.3446\n",
      "Epoch 97/200\n",
      "8057/8057 [==============================] - 11s 1ms/sample - loss: 0.3440\n",
      "Epoch 98/200\n",
      "8057/8057 [==============================] - 11s 1ms/sample - loss: 0.3459\n",
      "Epoch 99/200\n",
      "8057/8057 [==============================] - 11s 1ms/sample - loss: 0.3490\n",
      "Epoch 100/200\n",
      "8057/8057 [==============================] - 10s 1ms/sample - loss: 0.3443\n",
      "Epoch 101/200\n",
      "8057/8057 [==============================] - 9s 1ms/sample - loss: 0.3409\n",
      "Epoch 102/200\n",
      "8057/8057 [==============================] - 9s 1ms/sample - loss: 0.3517\n",
      "Epoch 103/200\n",
      "8057/8057 [==============================] - 8s 1ms/sample - loss: 0.3387\n",
      "Epoch 104/200\n",
      "8057/8057 [==============================] - 9s 1ms/sample - loss: 0.3477\n",
      "Epoch 105/200\n",
      "8057/8057 [==============================] - 9s 1ms/sample - loss: 0.3430\n",
      "Epoch 106/200\n",
      "8057/8057 [==============================] - 9s 1ms/sample - loss: 0.3437\n",
      "Epoch 107/200\n",
      "8057/8057 [==============================] - 10s 1ms/sample - loss: 0.3432\n",
      "Epoch 108/200\n",
      "8057/8057 [==============================] - 9s 1ms/sample - loss: 0.3444\n",
      "Epoch 109/200\n",
      "8057/8057 [==============================] - 8s 1ms/sample - loss: 0.3441\n",
      "Epoch 110/200\n",
      "8057/8057 [==============================] - 9s 1ms/sample - loss: 0.3558\n",
      "Epoch 111/200\n",
      "8057/8057 [==============================] - 9s 1ms/sample - loss: 0.3488\n",
      "Epoch 112/200\n",
      "8057/8057 [==============================] - 8s 1ms/sample - loss: 0.3456\n",
      "Epoch 113/200\n",
      "8057/8057 [==============================] - 8s 1ms/sample - loss: 0.3432\n",
      "Epoch 114/200\n",
      "8057/8057 [==============================] - 9s 1ms/sample - loss: 0.3427\n",
      "Epoch 115/200\n",
      "8057/8057 [==============================] - 8s 1ms/sample - loss: 0.3410\n",
      "Epoch 116/200\n",
      "8057/8057 [==============================] - 8s 1ms/sample - loss: 0.3445\n",
      "Epoch 117/200\n",
      "8057/8057 [==============================] - 8s 1ms/sample - loss: 0.3445\n",
      "Epoch 118/200\n",
      "8057/8057 [==============================] - 9s 1ms/sample - loss: 0.3473\n",
      "Epoch 119/200\n",
      "8057/8057 [==============================] - 9s 1ms/sample - loss: 0.3449\n",
      "Epoch 120/200\n",
      "8057/8057 [==============================] - 8s 1ms/sample - loss: 0.3468\n",
      "Epoch 121/200\n",
      "8057/8057 [==============================] - 10s 1ms/sample - loss: 0.3464\n",
      "Epoch 122/200\n",
      "8057/8057 [==============================] - 8s 1ms/sample - loss: 0.3409\n",
      "Epoch 123/200\n",
      "8057/8057 [==============================] - 8s 976us/sample - loss: 0.3485\n",
      "Epoch 124/200\n",
      "8057/8057 [==============================] - 8s 1ms/sample - loss: 0.3448\n",
      "Epoch 125/200\n",
      "8057/8057 [==============================] - 9s 1ms/sample - loss: 0.3484\n",
      "Epoch 126/200\n",
      "8057/8057 [==============================] - 10s 1ms/sample - loss: 0.3446\n",
      "Epoch 127/200\n",
      "8057/8057 [==============================] - 9s 1ms/sample - loss: 0.3409\n",
      "Epoch 128/200\n",
      "8057/8057 [==============================] - 8s 1ms/sample - loss: 0.3444\n",
      "Epoch 129/200\n",
      "8057/8057 [==============================] - 8s 1ms/sample - loss: 0.3359\n",
      "Epoch 130/200\n",
      "8057/8057 [==============================] - 9s 1ms/sample - loss: 0.3490\n",
      "Epoch 131/200\n",
      "8057/8057 [==============================] - 10s 1ms/sample - loss: 0.3382\n",
      "Epoch 132/200\n",
      "8057/8057 [==============================] - 8s 1ms/sample - loss: 0.3410\n",
      "Epoch 133/200\n",
      "8057/8057 [==============================] - 9s 1ms/sample - loss: 0.3447\n",
      "Epoch 134/200\n",
      "8057/8057 [==============================] - 9s 1ms/sample - loss: 0.3420\n",
      "Epoch 135/200\n",
      "8057/8057 [==============================] - 9s 1ms/sample - loss: 0.3451\n",
      "Epoch 136/200\n",
      "8057/8057 [==============================] - 9s 1ms/sample - loss: 0.3419\n",
      "Epoch 137/200\n",
      "8057/8057 [==============================] - 10s 1ms/sample - loss: 0.3403\n",
      "Epoch 138/200\n",
      "8057/8057 [==============================] - 9s 1ms/sample - loss: 0.3438\n",
      "Epoch 139/200\n",
      "8057/8057 [==============================] - 10s 1ms/sample - loss: 0.3390\n",
      "Epoch 140/200\n",
      "8057/8057 [==============================] - 9s 1ms/sample - loss: 0.3412\n",
      "Epoch 141/200\n",
      "8057/8057 [==============================] - 8s 1ms/sample - loss: 0.3463\n",
      "Epoch 142/200\n",
      "8057/8057 [==============================] - 9s 1ms/sample - loss: 0.3411\n",
      "Epoch 143/200\n",
      "8057/8057 [==============================] - 8s 975us/sample - loss: 0.3437\n",
      "Epoch 144/200\n",
      "8057/8057 [==============================] - 9s 1ms/sample - loss: 0.3471\n",
      "Epoch 145/200\n",
      "8057/8057 [==============================] - 8s 1ms/sample - loss: 0.3455\n",
      "Epoch 146/200\n",
      "8057/8057 [==============================] - 9s 1ms/sample - loss: 0.3441\n",
      "Epoch 147/200\n",
      "8057/8057 [==============================] - 8s 1ms/sample - loss: 0.3366\n",
      "Epoch 148/200\n",
      "8057/8057 [==============================] - 10s 1ms/sample - loss: 0.3370\n",
      "Epoch 149/200\n",
      "8057/8057 [==============================] - 9s 1ms/sample - loss: 0.3445\n",
      "Epoch 150/200\n",
      "8057/8057 [==============================] - 8s 1ms/sample - loss: 0.3459\n",
      "Epoch 151/200\n",
      "8057/8057 [==============================] - 9s 1ms/sample - loss: 0.3408\n",
      "Epoch 152/200\n",
      "8057/8057 [==============================] - 10s 1ms/sample - loss: 0.3421\n",
      "Epoch 153/200\n",
      "8057/8057 [==============================] - 10s 1ms/sample - loss: 0.3443\n",
      "Epoch 154/200\n",
      "8057/8057 [==============================] - 10s 1ms/sample - loss: 0.3538\n",
      "Epoch 155/200\n",
      "8057/8057 [==============================] - 10s 1ms/sample - loss: 0.3396\n",
      "Epoch 156/200\n",
      "8057/8057 [==============================] - 9s 1ms/sample - loss: 0.3421\n",
      "Epoch 157/200\n",
      "8057/8057 [==============================] - 9s 1ms/sample - loss: 0.3410\n",
      "Epoch 158/200\n",
      "8057/8057 [==============================] - 9s 1ms/sample - loss: 0.3379\n",
      "Epoch 159/200\n",
      "8057/8057 [==============================] - 10s 1ms/sample - loss: 0.3437\n",
      "Epoch 160/200\n",
      "8057/8057 [==============================] - 9s 1ms/sample - loss: 0.3436\n",
      "Epoch 161/200\n",
      "8057/8057 [==============================] - 11s 1ms/sample - loss: 0.3410\n",
      "Epoch 162/200\n",
      "8057/8057 [==============================] - 8s 1ms/sample - loss: 0.3425\n",
      "Epoch 163/200\n",
      "8057/8057 [==============================] - 9s 1ms/sample - loss: 0.3355\n",
      "Epoch 164/200\n",
      "8057/8057 [==============================] - 11s 1ms/sample - loss: 0.3396\n",
      "Epoch 165/200\n",
      "8057/8057 [==============================] - 9s 1ms/sample - loss: 0.3452\n",
      "Epoch 166/200\n",
      "8057/8057 [==============================] - 8s 973us/sample - loss: 0.3420\n",
      "Epoch 167/200\n",
      "8057/8057 [==============================] - 8s 1ms/sample - loss: 0.3416\n",
      "Epoch 168/200\n",
      "8057/8057 [==============================] - 11s 1ms/sample - loss: 0.3386\n",
      "Epoch 169/200\n",
      "8057/8057 [==============================] - 10s 1ms/sample - loss: 0.3443\n",
      "Epoch 170/200\n",
      "8057/8057 [==============================] - 10s 1ms/sample - loss: 0.3430\n",
      "Epoch 171/200\n",
      "8057/8057 [==============================] - 8s 1ms/sample - loss: 0.3395\n",
      "Epoch 172/200\n",
      "8057/8057 [==============================] - 10s 1ms/sample - loss: 0.3424\n",
      "Epoch 173/200\n",
      "8057/8057 [==============================] - 9s 1ms/sample - loss: 0.3476 0s - loss: 0\n",
      "Epoch 174/200\n",
      "8057/8057 [==============================] - 9s 1ms/sample - loss: 0.3512\n",
      "Epoch 175/200\n",
      "8057/8057 [==============================] - 10s 1ms/sample - loss: 0.3426\n",
      "Epoch 176/200\n",
      "8057/8057 [==============================] - 9s 1ms/sample - loss: 0.3414\n",
      "Epoch 177/200\n",
      "8057/8057 [==============================] - 10s 1ms/sample - loss: 0.3521\n",
      "Epoch 178/200\n",
      "8057/8057 [==============================] - 11s 1ms/sample - loss: 0.3402\n",
      "Epoch 179/200\n",
      "8057/8057 [==============================] - 9s 1ms/sample - loss: 0.3475\n",
      "Epoch 180/200\n",
      "8057/8057 [==============================] - 10s 1ms/sample - loss: 0.3367\n",
      "Epoch 181/200\n",
      "8057/8057 [==============================] - 10s 1ms/sample - loss: 0.3467\n",
      "Epoch 182/200\n",
      "8057/8057 [==============================] - 10s 1ms/sample - loss: 0.3418\n",
      "Epoch 183/200\n",
      "8057/8057 [==============================] - 8s 1ms/sample - loss: 0.3476\n",
      "Epoch 184/200\n",
      "8057/8057 [==============================] - 9s 1ms/sample - loss: 0.3413\n",
      "Epoch 185/200\n",
      "8057/8057 [==============================] - 11s 1ms/sample - loss: 0.3408\n",
      "Epoch 186/200\n",
      "8057/8057 [==============================] - 11s 1ms/sample - loss: 0.3364\n",
      "Epoch 187/200\n",
      "8057/8057 [==============================] - 10s 1ms/sample - loss: 0.3408\n",
      "Epoch 188/200\n",
      "8057/8057 [==============================] - 11s 1ms/sample - loss: 0.34310s - loss: \n",
      "Epoch 189/200\n",
      "8057/8057 [==============================] - 10s 1ms/sample - loss: 0.3486\n",
      "Epoch 190/200\n",
      "8057/8057 [==============================] - 10s 1ms/sample - loss: 0.3430\n",
      "Epoch 191/200\n",
      "8057/8057 [==============================] - 9s 1ms/sample - loss: 0.3360\n",
      "Epoch 192/200\n",
      "8057/8057 [==============================] - 9s 1ms/sample - loss: 0.3426 0s -\n",
      "Epoch 193/200\n",
      "8057/8057 [==============================] - 9s 1ms/sample - loss: 0.3480\n",
      "Epoch 194/200\n",
      "8057/8057 [==============================] - 10s 1ms/sample - loss: 0.3354\n",
      "Epoch 195/200\n",
      "8057/8057 [==============================] - 9s 1ms/sample - loss: 0.3456\n",
      "Epoch 196/200\n",
      "8057/8057 [==============================] - 9s 1ms/sample - loss: 0.3387\n",
      "Epoch 197/200\n",
      "8057/8057 [==============================] - 10s 1ms/sample - loss: 0.3380\n",
      "Epoch 198/200\n",
      "8057/8057 [==============================] - 9s 1ms/sample - loss: 0.3413\n",
      "Epoch 199/200\n",
      "8057/8057 [==============================] - 9s 1ms/sample - loss: 0.3401\n",
      "Epoch 200/200\n",
      "8057/8057 [==============================] - 9s 1ms/sample - loss: 0.3413\n"
     ]
    },
    {
     "data": {
      "text/plain": [
       "<tensorflow.python.keras.callbacks.History at 0x20d3d5d81c8>"
      ]
     },
     "execution_count": 9,
     "metadata": {},
     "output_type": "execute_result"
    }
   ],
   "source": [
    "model.fit(predictors, label, epochs=200)"
   ]
  },
  {
   "cell_type": "markdown",
   "metadata": {
    "_cell_guid": "61e99cfe-7395-4d61-8d1a-8539103d3db5",
    "_uuid": "448bf43b123060dfe4e27cb9f12889e4fe0ed2a7",
    "id": "GcMfWBOuR1l3"
   },
   "source": [
    "## 5. Generating the text \n",
    "\n",
    "Great, our model architecture is now ready and we can train it using our data. Next lets write the function to predict the next word based on the input words (or seed text). We will first tokenize the seed text, pad the sequences and pass into the trained model to get predicted word. The multiple predicted words can be appended together to get predicted sequence.\n"
   ]
  },
  {
   "cell_type": "code",
   "execution_count": 10,
   "metadata": {
    "_uuid": "e71e56543b7065f115a05e3fd062262b3b94ad46",
    "id": "xNSRq6vWR1l3"
   },
   "outputs": [],
   "source": [
    "def generate_text(seed_text, next_words, model, max_sequence_len):\n",
    "    for _ in range(next_words):\n",
    "        token_list = tokenizer.texts_to_sequences([seed_text])[0]\n",
    "        token_list = pad_sequences([token_list], maxlen=max_sequence_len-1, padding='pre')\n",
    "        predicted = model.predict_classes(token_list, verbose=0)\n",
    "        \n",
    "        output_word = \"\"\n",
    "        for word,index in tokenizer.word_index.items():\n",
    "            if index == predicted:\n",
    "                output_word = word\n",
    "                break\n",
    "        seed_text += \" \"+output_word\n",
    "    return seed_text.title()"
   ]
  },
  {
   "cell_type": "markdown",
   "metadata": {
    "_cell_guid": "ea0bddb6-acc6-4592-a2e0-ffc4129a582f",
    "_uuid": "c49bf4ea0e54f3145149e164e243d897f545b84c",
    "id": "c2HjPtdHR1l7"
   },
   "source": [
    "## 6. Some Results"
   ]
  },
  {
   "cell_type": "code",
   "execution_count": 11,
   "metadata": {
    "_cell_guid": "e38dd280-093b-4091-b82b-9aa90045b107",
    "_kg_hide-input": true,
    "_uuid": "a21548224c9e661a29e3d369e348aada0599bdc9",
    "colab": {
     "base_uri": "https://localhost:8080/"
    },
    "id": "z9NIohFfR1l9",
    "outputId": "950b8a47-71c7-4cf1-f4e5-50c2ca670bc5"
   },
   "outputs": [
    {
     "name": "stdout",
     "output_type": "stream",
     "text": [
      "Jack  I Served In Vietnam Heres\n",
      "President Trump Pushes Tariffs Latin America Links\n",
      "Donald Trumps Tunnel Vision Killed Or In\n",
      "India And China Envoy Intends\n",
      "New York Has 7 Billion Reasons\n",
      "Science And Technology Not Strictly Doctor Hollywood Night In\n"
     ]
    }
   ],
   "source": [
    "print (generate_text(\"jack \", 5, model, max_sequence_len))\n",
    "print (generate_text(\"president trump\",5, model, max_sequence_len))\n",
    "print (generate_text(\"donald\", 6, model, max_sequence_len))\n",
    "print (generate_text(\"india and china\", 2, model, max_sequence_len))\n",
    "print (generate_text(\"new york\", 4, model, max_sequence_len))\n",
    "print (generate_text(\"science and technology\", 6, model, max_sequence_len))"
   ]
  },
  {
   "cell_type": "code",
   "execution_count": null,
   "metadata": {},
   "outputs": [],
   "source": []
  }
 ],
 "metadata": {
  "accelerator": "GPU",
  "colab": {
   "collapsed_sections": [],
   "name": "RNN_Text_generation_V1.ipynb",
   "provenance": []
  },
  "kernelspec": {
   "display_name": "Python [conda env:.conda-tensorflow-development] *",
   "language": "python",
   "name": "conda-env-.conda-tensorflow-development-py"
  },
  "language_info": {
   "codemirror_mode": {
    "name": "ipython",
    "version": 3
   },
   "file_extension": ".py",
   "mimetype": "text/x-python",
   "name": "python",
   "nbconvert_exporter": "python",
   "pygments_lexer": "ipython3",
   "version": "3.7.9"
  }
 },
 "nbformat": 4,
 "nbformat_minor": 1
}
